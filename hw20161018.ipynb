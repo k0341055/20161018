{
 "cells": [
  {
   "cell_type": "code",
   "execution_count": 106,
   "metadata": {
    "collapsed": false
   },
   "outputs": [],
   "source": [
    "class OptionPricingModel:        #看老師的程式碼改自己的\n",
    "    def __init__(self,S0, K, T, Sigma, r,option):\n",
    "        self.S0=S0\n",
    "        self.K=K\n",
    "        self.r=r\n",
    "        self.T=T\n",
    "        self.Sigma=Sigma\n",
    "        self.N=0\n",
    "        self.option=option\n",
    "    def BS_d1(self):\n",
    "        from math import log,sqrt,exp\n",
    "        from scipy import stats\n",
    "        d1=(log(self.S0/self.K)+(self.r+0.5*self.Sigma*self.Sigma)*self.T)/(self.Sigma*sqrt(self.T))\n",
    "        return d1\n",
    "    def BS_d2(self):\n",
    "        from math import log,sqrt,exp\n",
    "        from scipy import stats\n",
    "        d2=(log(self.S0/self.K)+(self.r+0.5*self.Sigma*self.Sigma)*self.T)/(self.Sigma*sqrt(self.T))-self.Sigma*sqrt(self.T)\n",
    "        return d2\n",
    "    def BS_CloseForm(self):        \n",
    "        from math import log,sqrt,exp\n",
    "        from scipy import stats\n",
    "        if self.option==0:\n",
    "            C0=self.S0*stats.norm.cdf(self.BS_d1(),0,1)-exp(-self.r*self.T)*self.K*stats.norm.cdf(self.BS_d2(),0,1) \n",
    "            option='call:'+str(C0)\n",
    "        else:\n",
    "            P0=exp(-self.r*self.T)*self.K*stats.norm.cdf(-self.BS_d2(),0,1)-self.S0*stats.norm.cdf(-self.BS_d1(),0,1)\n",
    "            option='put:'+str(P0)\n",
    "        self.display(option)       #若是BS_MSC(self,S0, K, T, Sigma, r,N=1000)執行時要打.BS_MSC(值)\n",
    "    def BS_MSC(self,N=1000):   #如果是BS_MSC(self,N=1000)那執行時要先給值再打.BS_MSC()  \n",
    "        from numpy import random, sqrt, exp, maximum, sum  #若是BS_MSC(self,S0, K, T, Sigma, r,N=1000)執行時要打.BS_MSC(值)\n",
    "        z = random.standard_normal(N)\n",
    "        ST = self.S0 * exp((self.r - 0.5 * self.Sigma ** 2) * self.T + self.Sigma * sqrt(self.T) * z)\n",
    "        if self.option==0:\n",
    "            CT = maximum(ST - self.K, 0)\n",
    "            C0 = exp(-r * T) * sum(CT) / N\n",
    "            option='call:'+str(C0)\n",
    "        else:\n",
    "            CT = maximum(self.K - ST , 0)\n",
    "            P0 = exp(-r * T) * sum(CT) / N\n",
    "            option='put:'+str(P0)\n",
    "        self.display(option) \n",
    "    def display(self,option):  \n",
    "            print(option)\n"
   ]
  },
  {
   "cell_type": "code",
   "execution_count": 107,
   "metadata": {
    "collapsed": false
   },
   "outputs": [
    {
     "name": "stdout",
     "output_type": "stream",
     "text": [
      "call:8.06500170378\n"
     ]
    }
   ],
   "source": [
    "S0 = 100\n",
    "K = 105\n",
    "T = 1\n",
    "r = 0.05\n",
    "Sigma = 0.2\n",
    "option = 0\n",
    "N=10000\n",
    "BS=OptionPricingModel(S0, K, T, Sigma,r,option)\n",
    "BS.BS_MSC(N)\n"
   ]
  },
  {
   "cell_type": "code",
   "execution_count": 108,
   "metadata": {
    "collapsed": false
   },
   "outputs": [
    {
     "name": "stdout",
     "output_type": "stream",
     "text": [
      "call:8.02135223514\n"
     ]
    }
   ],
   "source": [
    "S0 = 100\n",
    "K = 105\n",
    "T = 1\n",
    "r = 0.05\n",
    "Sigma = 0.2\n",
    "option = 0\n",
    "BS=OptionPricingModel(S0, K, T, Sigma,r,option)\n",
    "BS.BS_CloseForm()"
   ]
  },
  {
   "cell_type": "code",
   "execution_count": null,
   "metadata": {
    "collapsed": true
   },
   "outputs": [],
   "source": []
  }
 ],
 "metadata": {
  "anaconda-cloud": {},
  "kernelspec": {
   "display_name": "Python [conda root]",
   "language": "python",
   "name": "conda-root-py"
  },
  "language_info": {
   "codemirror_mode": {
    "name": "ipython",
    "version": 3
   },
   "file_extension": ".py",
   "mimetype": "text/x-python",
   "name": "python",
   "nbconvert_exporter": "python",
   "pygments_lexer": "ipython3",
   "version": "3.5.2"
  }
 },
 "nbformat": 4,
 "nbformat_minor": 0
}
